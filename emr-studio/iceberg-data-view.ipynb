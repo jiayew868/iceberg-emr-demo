{
 "cells": [
  {
   "cell_type": "code",
   "execution_count": 1,
   "id": "4b52d015-ab7a-4d67-92c7-44b8229890ab",
   "metadata": {
    "execution": {
     "iopub.execute_input": "2022-08-23T07:03:25.795967Z",
     "iopub.status.busy": "2022-08-23T07:03:25.795731Z",
     "iopub.status.idle": "2022-08-23T07:03:25.813850Z",
     "shell.execute_reply": "2022-08-23T07:03:25.813104Z",
     "shell.execute_reply.started": "2022-08-23T07:03:25.795940Z"
    },
    "tags": []
   },
   "outputs": [
    {
     "data": {
      "text/html": [
       "Current session configs: <tt>{'conf': {'spark.sql.extensions': 'org.apache.iceberg.spark.extensions.IcebergSparkSessionExtensions', 'spark.sql.catalog.spark_catalog': 'org.apache.iceberg.spark.SparkSessionCatalog', 'spark.sql.catalog.spark_catalog.type': 'hive', 'spark.sql.catalog.local': 'org.apache.iceberg.spark.SparkCatalog', 'spark.sql.catalog.local.type': 'hive', 'spark.sql.catalog.local.warehouse': 's3://sg-emr-flink-iceberg/mywarehouse', 'spark.sql.catalog.catalog-name.default-namespace': 'local'}, 'proxyUser': 'user_kadmin', 'kind': 'pyspark'}</tt><br>"
      ],
      "text/plain": [
       "<IPython.core.display.HTML object>"
      ]
     },
     "metadata": {},
     "output_type": "display_data"
    },
    {
     "data": {
      "text/html": [
       "No active sessions."
      ],
      "text/plain": [
       "<IPython.core.display.HTML object>"
      ]
     },
     "metadata": {},
     "output_type": "display_data"
    }
   ],
   "source": [
    "%%configure -f\n",
    "\n",
    "{\n",
    "\"conf\":{\n",
    "    \"spark.sql.extensions\":\"org.apache.iceberg.spark.extensions.IcebergSparkSessionExtensions\",\n",
    "    \"spark.sql.catalog.spark_catalog\":\"org.apache.iceberg.spark.SparkSessionCatalog\",\n",
    "    \"spark.sql.catalog.spark_catalog.type\":\"hive\",\n",
    "    \"spark.sql.catalog.local\":\"org.apache.iceberg.spark.SparkCatalog\",\n",
    "    \"spark.sql.catalog.local.type\":\"hive\",\n",
    "    \"spark.sql.catalog.local.warehouse\":\"s3://sg-emr-flink-iceberg/mywarehouse\",\n",
    "    \"spark.sql.catalog.catalog-name.default-namespace\":\"local\"\n",
    "    }\n",
    "}\n"
   ]
  },
  {
   "cell_type": "markdown",
   "id": "aa44bff5-7856-447f-99e9-236317a8baa9",
   "metadata": {},
   "source": [
    "## read clickevent_v2 table"
   ]
  },
  {
   "cell_type": "code",
   "execution_count": 2,
   "id": "cf6a73ae-c63a-4235-bb9a-ad7d5d75b23b",
   "metadata": {
    "execution": {
     "iopub.execute_input": "2022-08-23T07:03:42.679962Z",
     "iopub.status.busy": "2022-08-23T07:03:42.679730Z",
     "iopub.status.idle": "2022-08-23T07:04:05.977488Z",
     "shell.execute_reply": "2022-08-23T07:04:05.976895Z",
     "shell.execute_reply.started": "2022-08-23T07:03:42.679938Z"
    },
    "tags": []
   },
   "outputs": [
    {
     "data": {
      "application/vnd.jupyter.widget-view+json": {
       "model_id": "fa0c1e43428249abb07e9db21447453c",
       "version_major": 2,
       "version_minor": 0
      },
      "text/plain": [
       "VBox()"
      ]
     },
     "metadata": {},
     "output_type": "display_data"
    },
    {
     "name": "stdout",
     "output_type": "stream",
     "text": [
      "Starting Spark application\n"
     ]
    },
    {
     "data": {
      "text/html": [
       "<table>\n",
       "<tr><th>ID</th><th>YARN Application ID</th><th>Kind</th><th>State</th><th>Spark UI</th><th>Driver log</th><th>User</th><th>Current session?</th></tr><tr><td>9</td><td>application_1654960316728_0010</td><td>pyspark</td><td>idle</td><td><a target=\"_blank\" href=\"http://ip-18-0-1-9.ap-southeast-1.compute.internal:20888/proxy/application_1654960316728_0010/\" class=\"emr-proxy-link\" emr-resource=\"j-385BG723R846G\n",
       "\" application-id=\"application_1654960316728_0010\">Link</a></td><td><a target=\"_blank\" href=\"http://ip-18-0-1-99.ap-southeast-1.compute.internal:8042/node/containerlogs/container_1654960316728_0010_01_000001/livy\" >Link</a></td><td>None</td><td>✔</td></tr></table>"
      ],
      "text/plain": [
       "<IPython.core.display.HTML object>"
      ]
     },
     "metadata": {},
     "output_type": "display_data"
    },
    {
     "data": {
      "application/vnd.jupyter.widget-view+json": {
       "model_id": "",
       "version_major": 2,
       "version_minor": 0
      },
      "text/plain": [
       "FloatProgress(value=0.0, bar_style='info', description='Progress:', layout=Layout(height='25px', width='50%'),…"
      ]
     },
     "metadata": {},
     "output_type": "display_data"
    },
    {
     "name": "stdout",
     "output_type": "stream",
     "text": [
      "SparkSession available as 'spark'.\n"
     ]
    },
    {
     "data": {
      "application/vnd.jupyter.widget-view+json": {
       "model_id": "",
       "version_major": 2,
       "version_minor": 0
      },
      "text/plain": [
       "FloatProgress(value=0.0, bar_style='info', description='Progress:', layout=Layout(height='25px', width='50%'),…"
      ]
     },
     "metadata": {},
     "output_type": "display_data"
    }
   ],
   "source": [
    "spark.conf.set(\"spark.sql.iceberg.handle-timestamp-without-timezone\", True)"
   ]
  },
  {
   "cell_type": "code",
   "execution_count": 4,
   "id": "201e7ee9-21ac-4ac4-88bf-b92a1ba9c384",
   "metadata": {
    "execution": {
     "iopub.execute_input": "2022-08-23T07:04:17.482428Z",
     "iopub.status.busy": "2022-08-23T07:04:17.482198Z",
     "iopub.status.idle": "2022-08-23T07:04:17.811719Z",
     "shell.execute_reply": "2022-08-23T07:04:17.811058Z",
     "shell.execute_reply.started": "2022-08-23T07:04:17.482405Z"
    },
    "tags": []
   },
   "outputs": [
    {
     "data": {
      "application/vnd.jupyter.widget-view+json": {
       "model_id": "",
       "version_major": 2,
       "version_minor": 0
      },
      "text/plain": [
       "FloatProgress(value=0.0, bar_style='info', description='Progress:', layout=Layout(height='25px', width='50%'),…"
      ]
     },
     "metadata": {},
     "output_type": "display_data"
    },
    {
     "data": {
      "application/vnd.jupyter.widget-view+json": {
       "model_id": "4579c2eb29a9411899018ca7b81510b6",
       "version_major": 2,
       "version_minor": 0
      },
      "text/plain": [
       "VBox(children=(HBox(), EncodingWidget(children=(VBox(children=(HTML(value='Encoding:'), Dropdown(description='…"
      ]
     },
     "metadata": {},
     "output_type": "display_data"
    },
    {
     "data": {
      "application/vnd.jupyter.widget-view+json": {
       "model_id": "2e746a7ea2e948beba528218f61588af",
       "version_major": 2,
       "version_minor": 0
      },
      "text/plain": [
       "Output()"
      ]
     },
     "metadata": {},
     "output_type": "display_data"
    }
   ],
   "source": [
    "%%sql\n",
    "use ods_behavior"
   ]
  },
  {
   "cell_type": "markdown",
   "id": "f72c4b0c-4775-4ba2-944a-ca78cfc77fc1",
   "metadata": {},
   "source": [
    "## 查看 clickevent_v5 表结构"
   ]
  },
  {
   "cell_type": "code",
   "execution_count": 8,
   "id": "9dad16b5-8c9f-4255-9de3-f8d3d4bfcc29",
   "metadata": {
    "execution": {
     "iopub.execute_input": "2022-08-23T07:10:24.399804Z",
     "iopub.status.busy": "2022-08-23T07:10:24.399610Z",
     "iopub.status.idle": "2022-08-23T07:10:25.317763Z",
     "shell.execute_reply": "2022-08-23T07:10:25.317167Z",
     "shell.execute_reply.started": "2022-08-23T07:10:24.399780Z"
    },
    "tags": []
   },
   "outputs": [
    {
     "data": {
      "application/vnd.jupyter.widget-view+json": {
       "model_id": "",
       "version_major": 2,
       "version_minor": 0
      },
      "text/plain": [
       "FloatProgress(value=0.0, bar_style='info', description='Progress:', layout=Layout(height='25px', width='50%'),…"
      ]
     },
     "metadata": {},
     "output_type": "display_data"
    },
    {
     "data": {
      "application/vnd.jupyter.widget-view+json": {
       "model_id": "4818db1a4409451287d2a1ffbe0c9dd4",
       "version_major": 2,
       "version_minor": 0
      },
      "text/plain": [
       "VBox(children=(HBox(children=(HTML(value='Type:'), Button(description='Table', layout=Layout(width='70px'), st…"
      ]
     },
     "metadata": {},
     "output_type": "display_data"
    },
    {
     "data": {
      "application/vnd.jupyter.widget-view+json": {
       "model_id": "814deb1ac7e2469992632086fbd2f572",
       "version_major": 2,
       "version_minor": 0
      },
      "text/plain": [
       "Output()"
      ]
     },
     "metadata": {},
     "output_type": "display_data"
    }
   ],
   "source": [
    "%%sql\n",
    "\n",
    "desc ods_behavior.clickevent_v5"
   ]
  },
  {
   "cell_type": "markdown",
   "id": "2e4bde53-3e8b-4f28-a499-8a34ec9dfb38",
   "metadata": {},
   "source": [
    "## 查看 dim_db.user_member_sink table "
   ]
  },
  {
   "cell_type": "code",
   "execution_count": 7,
   "id": "1d0b46f3-ac35-4e33-ae6b-317526411f62",
   "metadata": {
    "execution": {
     "iopub.execute_input": "2022-08-23T07:09:40.986596Z",
     "iopub.status.busy": "2022-08-23T07:09:40.986366Z",
     "iopub.status.idle": "2022-08-23T07:09:48.542899Z",
     "shell.execute_reply": "2022-08-23T07:09:48.542337Z",
     "shell.execute_reply.started": "2022-08-23T07:09:40.986572Z"
    },
    "tags": []
   },
   "outputs": [
    {
     "data": {
      "application/vnd.jupyter.widget-view+json": {
       "model_id": "",
       "version_major": 2,
       "version_minor": 0
      },
      "text/plain": [
       "FloatProgress(value=0.0, bar_style='info', description='Progress:', layout=Layout(height='25px', width='50%'),…"
      ]
     },
     "metadata": {},
     "output_type": "display_data"
    },
    {
     "data": {
      "application/vnd.jupyter.widget-view+json": {
       "model_id": "baa732142043471e86453a6347994caf",
       "version_major": 2,
       "version_minor": 0
      },
      "text/plain": [
       "VBox(children=(HBox(children=(HTML(value='Type:'), Button(description='Table', layout=Layout(width='70px'), st…"
      ]
     },
     "metadata": {},
     "output_type": "display_data"
    },
    {
     "data": {
      "application/vnd.jupyter.widget-view+json": {
       "model_id": "c42658326e8d444c929e687cffd0fa3a",
       "version_major": 2,
       "version_minor": 0
      },
      "text/plain": [
       "Output()"
      ]
     },
     "metadata": {},
     "output_type": "display_data"
    }
   ],
   "source": [
    "%%sql\n",
    "\n",
    "desc dim_db.user_member_sink;"
   ]
  },
  {
   "cell_type": "markdown",
   "id": "77b89eac-21a9-40b6-b8e0-746f5048f595",
   "metadata": {},
   "source": []
  },
  {
   "cell_type": "code",
   "execution_count": 9,
   "id": "7e4495ff-0361-49de-8d92-2fcf652b8159",
   "metadata": {
    "execution": {
     "iopub.execute_input": "2022-08-23T07:11:36.974137Z",
     "iopub.status.busy": "2022-08-23T07:11:36.973896Z",
     "iopub.status.idle": "2022-08-23T07:11:50.534303Z",
     "shell.execute_reply": "2022-08-23T07:11:50.533555Z",
     "shell.execute_reply.started": "2022-08-23T07:11:36.974111Z"
    },
    "tags": []
   },
   "outputs": [
    {
     "data": {
      "application/vnd.jupyter.widget-view+json": {
       "model_id": "",
       "version_major": 2,
       "version_minor": 0
      },
      "text/plain": [
       "FloatProgress(value=0.0, bar_style='info', description='Progress:', layout=Layout(height='25px', width='50%'),…"
      ]
     },
     "metadata": {},
     "output_type": "display_data"
    },
    {
     "data": {
      "application/vnd.jupyter.widget-view+json": {
       "model_id": "b690768d2ba8488bbd9eaba4ca4db302",
       "version_major": 2,
       "version_minor": 0
      },
      "text/plain": [
       "VBox(children=(HBox(children=(HTML(value='Type:'), Button(description='Table', layout=Layout(width='70px'), st…"
      ]
     },
     "metadata": {},
     "output_type": "display_data"
    },
    {
     "data": {
      "application/vnd.jupyter.widget-view+json": {
       "model_id": "d91923544e954f9297c7d3af00b9dc39",
       "version_major": 2,
       "version_minor": 0
      },
      "text/plain": [
       "Output()"
      ]
     },
     "metadata": {},
     "output_type": "display_data"
    }
   ],
   "source": [
    "%%sql\n",
    "\n",
    "\n",
    "select * from ods_behavior.clickevent_v5 aa , dim_db.user_member_sink bb where aa.uid = bb.userid\n"
   ]
  },
  {
   "cell_type": "code",
   "execution_count": null,
   "id": "403c5c97-13a0-4e71-a6bd-86f03cdf8b58",
   "metadata": {},
   "outputs": [],
   "source": []
  }
 ],
 "metadata": {
  "kernelspec": {
   "display_name": "PySpark",
   "language": "python",
   "name": "pysparkkernel"
  },
  "language_info": {
   "codemirror_mode": {
    "name": "python",
    "version": 3
   },
   "file_extension": ".py",
   "mimetype": "text/x-python",
   "name": "pyspark",
   "pygments_lexer": "python3"
  }
 },
 "nbformat": 4,
 "nbformat_minor": 5
}
